{
 "cells": [
  {
   "cell_type": "code",
   "execution_count": 1,
   "metadata": {},
   "outputs": [],
   "source": [
    "import numpy as np\n",
    "import matplotlib.pyplot as plt"
   ]
  },
  {
   "cell_type": "code",
   "execution_count": 2,
   "metadata": {},
   "outputs": [],
   "source": [
    "def f_roots(x, a=1.01,b=-3.07 ,c=2.07):\n",
    "    return a*x**2 + b*x + c\n",
    "def f_roots2(x, a=1.,b=-2. ,c=1.):\n",
    "    return a*x + b"
   ]
  },
  {
   "cell_type": "code",
   "execution_count": 3,
   "metadata": {},
   "outputs": [],
   "source": [
    "def check_values(f, x_min, x_max, tol):\n",
    "    if (x_min > x_max):\n",
    "        dummy = x_min\n",
    "        x_min = x_max\n",
    "        x_max = dummy\n",
    "    \n",
    "    y_min = f(x_min)\n",
    "    y_max = f(x_max)\n",
    "    \n",
    "    if (y_min * y_max >= 0.0):\n",
    "        print(\"Error: no single zero crossing. Please bracket a single crossing.\")\n",
    "        s = \"f(%f) = %f, f(%f) = %f\" % (x_min,y_min, x_max, y_max)\n",
    "        print(s)\n",
    "        return 0\n",
    "    \n",
    "    #if x_min is a root, return 1\n",
    "    if (np.fabs(y_min < tol)):\n",
    "        return 1\n",
    "    \n",
    "    #same for x_max\n",
    "    if (np.fabs(y_max) < tol):\n",
    "        return 2\n",
    "    \n",
    "    #bracket is valid if the checker reaches 3\n",
    "    return 3"
   ]
  },
  {
   "cell_type": "code",
   "execution_count": 14,
   "metadata": {},
   "outputs": [],
   "source": [
    "def root_finder_bis(f, tol=1.0e-8, imax=1000):\n",
    "    x = np.linspace(-10,10,1000)\n",
    "    y = f(x)\n",
    "    plt.plot(x,y)\n",
    "    plt.xlim(0,3)\n",
    "    plt.ylim(-.5,2.1)\n",
    "    plt.xlabel('x')\n",
    "    plt.ylabel('y')\n",
    "    plt.show()\n",
    "    \n",
    "    plt.plot(x,y)\n",
    "    plt.xlim(0,3)\n",
    "    plt.ylim(-.5,2.1)\n",
    "    plt.xlabel('x')\n",
    "    plt.ylabel('y')\n",
    "    \n",
    "    xmin = float(input('Please enter a bound for the function and press enter: '))\n",
    "    plt.plot(xmin,f(xmin),marker='>')\n",
    "    xmax = float(input('Repeat for the second bound: '))\n",
    "    plt.plot(xmax,f(xmax),marker='<')\n",
    "    \n",
    "    \n",
    "    \n",
    "    ch = input(\"Would you like to add a tolerance? Y/N :  \")\n",
    "    if(ch == 'Y'):\n",
    "        tol = float(input(\"Please insert tolerance value in decimal (0.000001) or scientific notation (eg. 1.0e-6): \"))\n",
    "    \n",
    "    if (xmin > xmax):\n",
    "        dum = xmin\n",
    "        xmin = xmax\n",
    "        xmax = dum\n",
    "    \n",
    "    i = 0           #initialize counter\n",
    "    xmin_st = xmin  #saves initial xmin value\n",
    "    xmax_st = xmax  #saves initial xmax value\n",
    "    xmid = 0.0\n",
    "    ymid = 0.0      #defines vars outside of while, allows loop to just replace var\n",
    "    \n",
    "    ##verifies values work for function##\n",
    "    \n",
    "    flag = check_values(f, xmin, xmax, tol)\n",
    "    if(flag==0):\n",
    "        print('Error in root_finder_bis().')\n",
    "        raise ValueError('Initial values invalid', xmin_st, xmax_st)\n",
    "    elif(flag==1):\n",
    "        print('Lower bound within tolerance value of y=0')\n",
    "        return xmin\n",
    "    elif(flag==2):\n",
    "        print('Upper bound within tolerance value of y=0')\n",
    "        return xmax\n",
    "    \n",
    "    ####function start####\n",
    "    \n",
    "    flag = 1\n",
    "    while(flag):\n",
    "        \n",
    "        xmid = 0.5*(xmin + xmax)\n",
    "        ymid = f(xmid)\n",
    "        \n",
    "        if(np.abs(ymid)<tol):\n",
    "            flag=0\n",
    "        elif(f(xmid)*f(xmax)>0):\n",
    "            xmax = xmid\n",
    "        elif(f(xmid)*f(xmin)>0):\n",
    "            xmin = xmid\n",
    "        i+=1\n",
    "        \n",
    "        if(i >= imax):\n",
    "            print('Error: reached maximum iterations of ', i)\n",
    "            s = \"Min bracket    f(%f) = %f\" % (xmin, f(xmin))\n",
    "            l = \"Max bracket    f(%f) = %f\" % (xmax, f(xmax))\n",
    "            r = \"Final midpoint f(%f) = %f\" % (xmid, ymid)\n",
    "            print(s, l, r)\n",
    "            raise StopIteration('Stopping iterations after ', i)\n",
    "    plt.plot(xmid,ymid,marker='o')\n",
    "    plt.show()\n",
    "    \n",
    "    print ('\\nWith x-boundaries: ', xmin_st,\",\", xmax_st, '\\nand y-values: y1 =', f(xmin_st), ', y2 =', f(xmax_st),'\\n')\n",
    "    print ('A rational root determined in this range to be: ', xmid, '\\nwith y in tolerance range at: ', ymid)\n",
    "    print ('Iterations: ', i)"
   ]
  },
  {
   "cell_type": "code",
   "execution_count": 15,
   "metadata": {},
   "outputs": [
    {
     "data": {
      "image/png": "[encoded data removed]",
      "text/plain": [
       "<Figure size 432x288 with 1 Axes>"
      ]
     },
     "metadata": {
      "needs_background": "light"
     },
     "output_type": "display_data"
    },
    {
     "name": "stdout",
     "output_type": "stream",
     "text": [
      "Please enter a bound for the function and press enter: 0\n",
      "Repeat for the second bound: 1.5\n",
      "Would you like to add a tolerance? Y/N :  n\n"
     ]
    },
    {
     "data": {
      "image/png": "[encoded data removed]",
      "text/plain": [
       "<Figure size 432x288 with 1 Axes>"
      ]
     },
     "metadata": {
      "needs_background": "light"
     },
     "output_type": "display_data"
    },
    {
     "name": "stdout",
     "output_type": "stream",
     "text": [
      "\n",
      "With x-boundaries:  0.0 , 1.5 \n",
      "and y-values: y1 = 2.07 , y2 = -0.26249999999999973 \n",
      "\n",
      "A rational root determined in this range to be:  1.009612686932087 \n",
      "with y in tolerance range at:  6.508863670262599e-09\n",
      "Iterations:  26\n"
     ]
    }
   ],
   "source": [
    "root_finder_bis(f_roots)"
   ]
  },
  {
   "cell_type": "code",
   "execution_count": null,
   "metadata": {},
   "outputs": [],
   "source": []
  },
  {
   "cell_type": "code",
   "execution_count": null,
   "metadata": {},
   "outputs": [],
   "source": []
  }
 ],
 "metadata": {
  "kernelspec": {
   "display_name": "Python 3",
   "language": "python",
   "name": "python3"
  },
  "language_info": {
   "codemirror_mode": {
    "name": "ipython",
    "version": 3
   },
   "file_extension": ".py",
   "mimetype": "text/x-python",
   "name": "python",
   "nbconvert_exporter": "python",
   "pygments_lexer": "ipython3",
   "version": "3.7.0"
  }
 },
 "nbformat": 4,
 "nbformat_minor": 2
}
