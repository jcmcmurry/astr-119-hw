{
 "cells": [
  {
   "cell_type": "code",
   "execution_count": null,
   "metadata": {},
   "outputs": [],
   "source": [
    "import numpy as np\n",
    "import matplotlib.pyplot as plt\n",
    "% matplotlib inline"
   ]
  },
  {
   "cell_type": "markdown",
   "metadata": {},
   "source": [
    "# Write a notebook to numerically integrate the function f(x)= e^(-2x)cos(10x)"
   ]
  },
  {
   "cell_type": "markdown",
   "metadata": {},
   "source": [
    "### Define a function"
   ]
  },
  {
   "cell_type": "code",
   "execution_count": null,
   "metadata": {},
   "outputs": [],
   "source": [
    "def func(x):\n",
    "    return np.exp(-2*x)*np.cos(10*x)"
   ]
  },
  {
   "cell_type": "markdown",
   "metadata": {},
   "source": [
    "### Define core of trapezoid method"
   ]
  },
  {
   "cell_type": "code",
   "execution_count": null,
   "metadata": {},
   "outputs": [],
   "source": [
    "def trapezoid_core(f, x, h):\n",
    "    return 0.5*h*(f(x*h)+f(x))"
   ]
  },
  {
   "cell_type": "code",
   "execution_count": null,
   "metadata": {},
   "outputs": [],
   "source": [
    "def trapezoid_method(f,a,b,N):\n",
    "    #f is argument of integration, a is lower limit, b is upper limit, N is number of function evals\n",
    "    #if N is odd, we don't need to adjust the last segment\n",
    "    \n",
    "    x = np.linspace(a,b,N)\n",
    "    h = x[1] - x[0]\n",
    "    \n",
    "    F_int = 0.0\n",
    "    \n",
    "    #Perform integral with trapezoid method\n",
    "    \n",
    "    for i in range(0,len(x)-1,1):\n",
    "        F_int += trapezoid_core(f,x[i],h)\n",
    "    \n",
    "    return F_int, i"
   ]
  },
  {
   "cell_type": "markdown",
   "metadata": {},
   "source": [
    "## Define core of simpson's method"
   ]
  },
  {
   "cell_type": "code",
   "execution_count": null,
   "metadata": {},
   "outputs": [],
   "source": [
    "def simpson_core(f,x,h):\n",
    "    return h*(f(x) + 4*f(x+h) +f(x+2*h))/3."
   ]
  },
  {
   "cell_type": "markdown",
   "metadata": {},
   "source": [
    "### Define a wrapper to perform Simpson's method"
   ]
  },
  {
   "cell_type": "code",
   "execution_count": null,
   "metadata": {},
   "outputs": [],
   "source": [
    "def simpson_method(f,a,b,N):\n",
    "    #f is argument of integration, a is lower limit, b is upper limit, N is number of function evals\n",
    "    #if N is odd, we don't need to adjust the last segment\n",
    "    \n",
    "    x = np.linspace(a,b,N)\n",
    "    h = x[1] - x[0]\n",
    "    \n",
    "    F_int = 0.0\n",
    "    \n",
    "    #Perform integral with Simpson's method\n",
    "    for i in range(0,len(x)-2,2):\n",
    "        F_int += simpson_core(f,x[i],h)\n",
    "        \n",
    "    #apply Simpson's rule over last interval if N is even\n",
    "    if(N%2==0):\n",
    "        F_int += simpson_core(f,x[-2],0.5*h)\n",
    "    \n",
    "    return F_int, i"
   ]
  },
  {
   "cell_type": "markdown",
   "metadata": {},
   "source": [
    "## Define Romberg Integration Core"
   ]
  },
  {
   "cell_type": "code",
   "execution_count": null,
   "metadata": {},
   "outputs": [],
   "source": [
    "def romberg_core(f,a,b,I,i=0):\n",
    "    #need diff b/t a&b\n",
    "    h = b-a\n",
    "    \n",
    "    #and increment b/t new function evals\n",
    "    dh = h/(2.**(i))\n",
    "    \n",
    "    #we need the cofactor and function evals\n",
    "    K = h/(2.**(i+1))\n",
    "    M=0.0\n",
    "    \n",
    "    for j in range(2**i):\n",
    "        M+= f(a + 0.5*dh + j*dh)\n",
    "    return K*M"
   ]
  },
  {
   "cell_type": "markdown",
   "metadata": {},
   "source": [
    "## Define wrapper function for Romberg Integration"
   ]
  },
  {
   "cell_type": "code",
   "execution_count": null,
   "metadata": {},
   "outputs": [],
   "source": [
    "def romberg_method(f,a,b,tol=1e-6):\n",
    "    i=0\n",
    "    imax = 1000\n",
    "    \n",
    "    # define an error estimate set to a large value\n",
    "    delta = 100*np.fabs(tol)\n",
    "    \n",
    "    I = np.zeros(imax, dtype=float)\n",
    "    \n",
    "    #get zeroth romberg iteration\n",
    "    I[0] = 0.5*(b-a)*(f(a)+f(b))\n",
    "    i+=1\n",
    "    \n",
    "    while(delta>tol):\n",
    "        #find romberg iteration\n",
    "        I[i] = 0.5*I[i-1] + romberg_core(f,a,b,I,i)\n",
    "        \n",
    "        if(I[i]!=0):\n",
    "            delta = np.fabs( (I[i]-I[i-1])/I[i])\n",
    "        else:\n",
    "            raise ValueError('Integral is zero, infinite loop stopped')\n",
    "        \n",
    "        if(delta>tol):\n",
    "            i += 1\n",
    "            \n",
    "            if(i>imax):\n",
    "                print(\"Error: Max iterations Reached\")\n",
    "                raise StopIteration('Stopping after iteration ',i)\n",
    "    return I[i]"
   ]
  },
  {
   "cell_type": "code",
   "execution_count": null,
   "metadata": {},
   "outputs": [],
   "source": [
    "F_int_trapezoid, i_trapezoid = trapezoid_method(func(x),0,np.pi(),1000)\n",
    "F_int_simpson, i_simpson = simpson_method(func(x),0,np.pi(),1000)\n",
    "\n",
    "print(\"Trapezoid: \", F_int_trapezoid, \" Iterations: \", i_trapezoid)\n",
    "print(\"Simpson's: \", F_int_simpson, \" Iterations: \", i_simpson)\n",
    "RI = romberg_method(func,0,1)\n",
    "print(\"Romberg: \", RI, \"Iterations: \", RI.i())"
   ]
  },
  {
   "cell_type": "code",
   "execution_count": null,
   "metadata": {},
   "outputs": [],
   "source": []
  }
 ],
 "metadata": {
  "kernelspec": {
   "display_name": "Python 3",
   "language": "python",
   "name": "python3"
  },
  "language_info": {
   "codemirror_mode": {
    "name": "ipython",
    "version": 3
   },
   "file_extension": ".py",
   "mimetype": "text/x-python",
   "name": "python",
   "nbconvert_exporter": "python",
   "pygments_lexer": "ipython3",
   "version": "3.7.0"
  }
 },
 "nbformat": 4,
 "nbformat_minor": 2
}
